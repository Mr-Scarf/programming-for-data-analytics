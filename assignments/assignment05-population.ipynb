{
 "cells": [
  {
   "cell_type": "markdown",
   "id": "a154e91b",
   "metadata": {},
   "source": [
    "# Lab Topic 05-population.ipynb\n",
    "# Author: David Scally\n",
    "\n",
    "Assignment:\n",
    "\n",
    "i) - Part 1 70%\n",
    "Write a jupyter notebook that analyses the differences between the sexes by age in Ireland.\n",
    "\n",
    "Weighted mean age (by sex)\n",
    "The difference between the sexes by age\n",
    "This part does not need to look at the regions.\n",
    "\n",
    "ie You can take the notebook I used in the lectures and substitute the sexes for the regions.\n",
    "\n",
    "ii) - Part 2 20%\n",
    "\n",
    "In the same notebook, make a variable that stores an age (say 35).\n",
    "\n",
    "Write that code that would group the people within 5 years of that age together, into one age group \n",
    "\n",
    "Calculate the population difference between the sexes in that age group.\n",
    "\n",
    "\n",
    "iii) - Part 3 10%\n",
    "\n",
    "In the same notebook.\n",
    "\n",
    "Write the code that would work out which region in Ireland has the biggest population difference between the sexes in that age group\n"
   ]
  },
  {
   "cell_type": "code",
   "execution_count": 1,
   "id": "16731d2a",
   "metadata": {},
   "outputs": [],
   "source": [
    "import pandas as pd"
   ]
  },
  {
   "cell_type": "code",
   "execution_count": null,
   "id": "d9499788",
   "metadata": {},
   "outputs": [
    {
     "data": {
      "text/plain": [
       "Index(['STATISTIC', 'Statistic Label', 'TLIST(A1)', 'CensusYear',\n",
       "       'C02199V02655', 'Sex', 'C02076V03371', 'Single Year of Age',\n",
       "       'C03789V04537', 'Administrative Counties', 'UNIT', 'VALUE'],\n",
       "      dtype='object')"
      ]
     },
     "execution_count": 9,
     "metadata": {},
     "output_type": "execute_result"
    }
   ],
   "source": [
    "url = \"https://ws.cso.ie/public/api.restful/PxStat.Data.Cube_API.ReadDataset/FY006A/CSV/1.0/en\"\n",
    "df = pd.read_csv(url)\n",
    "#df.shape\n",
    "#df\n",
    "df.columns\n"
   ]
  },
  {
   "cell_type": "code",
   "execution_count": null,
   "id": "e269a75a",
   "metadata": {},
   "outputs": [],
   "source": [
    "# Remove 'Both Sexes' for simplicity - we want to be left with Male & Female Only "
   ]
  }
 ],
 "metadata": {
  "kernelspec": {
   "display_name": "Python 3",
   "language": "python",
   "name": "python3"
  },
  "language_info": {
   "codemirror_mode": {
    "name": "ipython",
    "version": 3
   },
   "file_extension": ".py",
   "mimetype": "text/x-python",
   "name": "python",
   "nbconvert_exporter": "python",
   "pygments_lexer": "ipython3",
   "version": "3.12.1"
  }
 },
 "nbformat": 4,
 "nbformat_minor": 5
}
